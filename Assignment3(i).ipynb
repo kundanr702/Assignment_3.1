{
 "cells": [
  {
   "cell_type": "raw",
   "id": "06fefbca-0806-4828-91c7-b4826fe9c7ad",
   "metadata": {},
   "source": [
    "Q1. Which keyword is used to create a function? Create a function to return a list of odd numbers in the\n",
    "range of 1 to 25."
   ]
  },
  {
   "cell_type": "raw",
   "id": "2520a513-157e-4449-9496-e22f9de81ba7",
   "metadata": {},
   "source": [
    "Ans\n",
    "Def keyword is used to create or define a function. "
   ]
  },
  {
   "cell_type": "code",
   "execution_count": 9,
   "id": "dd02fe97-ce14-4e89-8551-f937d19e6d84",
   "metadata": {},
   "outputs": [
    {
     "data": {
      "text/plain": [
       "[1, 3, 5, 7, 9, 11, 13, 15, 17, 19, 21, 23, 25]"
      ]
     },
     "execution_count": 9,
     "metadata": {},
     "output_type": "execute_result"
    }
   ],
   "source": [
    "def test(*args):\n",
    "    l=[]\n",
    "    for i in range(25+1):\n",
    "        if i%2!=0:\n",
    "            l.append(i)\n",
    "    return l\n",
    "test()"
   ]
  },
  {
   "cell_type": "raw",
   "id": "269d55fb-dd8c-4338-a380-92f6111f0275",
   "metadata": {},
   "source": [
    "Q2. Why *args and **kwargs is used in some functions? Create a function each for *args and **kwargs\n",
    "to demonstrate their use."
   ]
  },
  {
   "cell_type": "raw",
   "id": "71be77a6-ef23-4919-87e1-a06ade058f4b",
   "metadata": {},
   "source": [
    "Ans.\n",
    "We can use *args and **kwargs as arguments of a function when we are unsure about the number of arguments to pass in the functions."
   ]
  },
  {
   "cell_type": "code",
   "execution_count": 8,
   "id": "50737971-9463-40d3-a776-09466cc0fc52",
   "metadata": {},
   "outputs": [
    {
     "name": "stdout",
     "output_type": "stream",
     "text": [
      "Hello\n",
      "Welcome\n",
      "to\n",
      "My\n",
      "function\n"
     ]
    }
   ],
   "source": [
    "def myfun(*args):\n",
    "\tfor i in args:\n",
    "\t\tprint(i)\n",
    "\n",
    "myfun('Hello', 'Welcome', 'to', 'My','function')\n"
   ]
  },
  {
   "cell_type": "code",
   "execution_count": 32,
   "id": "a16464e8-4cb8-406a-8ee9-ef2897c37968",
   "metadata": {},
   "outputs": [
    {
     "name": "stdout",
     "output_type": "stream",
     "text": [
      "A is Hello\n",
      "B is Sir\n",
      "C is How\n",
      "D is You\n",
      "E is doing ?\n"
     ]
    }
   ],
   "source": [
    "def myfun2(**kwargs):\n",
    "    for key,value in kwargs.items():\n",
    "        print(f'{key} is {value}')\n",
    "d={'A':'Hello','B':'Sir','C':'How','D':'You','E':'doing ?'}\n",
    "\n",
    "myfun2(**d)"
   ]
  },
  {
   "cell_type": "raw",
   "id": "eb2e9ef0-3644-46a5-861a-60bb30d9ea1d",
   "metadata": {},
   "source": [
    "Q3. What is an iterator in python? Name the method used to initialise the iterator object and the method\n",
    "used for iteration. Use these methods to print the first five elements of the given list [2, 4, 6, 8, 10, 12, 14,\n",
    "16, 18, 20]."
   ]
  },
  {
   "cell_type": "raw",
   "id": "3ad6416f-7d56-4731-9c5b-c2503f806a16",
   "metadata": {},
   "source": [
    "Ans.\n",
    "An iterator object which is expected to return the next element of the iterable object that returned it, and to raise a stop iteration error when no more elements are available.\n",
    "Iter() method is used to initialize the iterator object so that the instance of this object can be used for iterating.\n",
    "The next() method is used to iterate over the iterable objects. The next() method returns the next value in the iterable object."
   ]
  },
  {
   "cell_type": "code",
   "execution_count": 2,
   "id": "900d4e45-4437-478c-a23b-edcb6d2da082",
   "metadata": {},
   "outputs": [
    {
     "name": "stdout",
     "output_type": "stream",
     "text": [
      "2\n",
      "4\n",
      "6\n",
      "8\n",
      "10\n"
     ]
    }
   ],
   "source": [
    "my_list = [2, 4, 6, 8, 10, 12, 14, 16, 18, 20]\n",
    "\n",
    "my_iterator = iter(my_list)\n",
    "\n",
    "for i in range(5):\n",
    "    element = next(my_iterator)\n",
    "    print(element)"
   ]
  },
  {
   "cell_type": "raw",
   "id": "c59b4ac2-f4f1-4189-8c17-d146b199c514",
   "metadata": {},
   "source": [
    "Q4. What is a generator function in python? Why yield keyword is used? Give an example of a generator\n",
    "function."
   ]
  },
  {
   "cell_type": "raw",
   "id": "2a912a03-d9f1-4c35-a140-84bf7046719a",
   "metadata": {},
   "source": [
    "Ans.\n",
    "A python generator function allows you to declare a function that behaves like an iterator, providing a faster and easier way to create iterators.\n",
    "In normal function we use return keyword to return the value but in generator function we use yeild keyword to execute our iterator."
   ]
  },
  {
   "cell_type": "code",
   "execution_count": 4,
   "id": "fdee8e09-8830-4623-9365-ae14b6195ef0",
   "metadata": {},
   "outputs": [
    {
     "name": "stdout",
     "output_type": "stream",
     "text": [
      "0\n",
      "1\n",
      "2\n",
      "3\n",
      "4\n",
      "5\n",
      "6\n",
      "7\n",
      "8\n",
      "9\n"
     ]
    }
   ],
   "source": [
    "def my_generator(n):\n",
    "    value = 0\n",
    "    while value < n:\n",
    "        yield value\n",
    "        value += 1\n",
    "\n",
    "\n",
    "for i in my_generator(10):\n",
    "    print(i)"
   ]
  },
  {
   "cell_type": "raw",
   "id": "0c70b6ce-c93e-46e7-9b2f-a9f1a5def135",
   "metadata": {},
   "source": [
    "Q5. Create a generator function for prime numbers less than 1000. Use the next() method to print the\n",
    "first 20 prime numbers."
   ]
  },
  {
   "cell_type": "code",
   "execution_count": null,
   "id": "4a754abf-a8ca-4062-9b58-e8a078baa34b",
   "metadata": {},
   "outputs": [],
   "source": [
    "def prime_generator():\n",
    "    primes = []\n",
    "    num = 2\n",
    "    while True:\n",
    "        if all(num % prime != 0 for prime in primes):\n",
    "            primes.append(num)\n",
    "            yield num\n",
    "        num += 1\n",
    "\n",
    "# Create an instance of the prime generator\n",
    "generator = prime_generator()\n",
    "\n",
    "# Print the first 20 prime numbers using next()\n",
    "for _ in range(20):\n",
    "    prime = next(generator)\n",
    "    print(prime)"
   ]
  },
  {
   "cell_type": "raw",
   "id": "5b921f36-44d3-4058-8553-d3a399891efb",
   "metadata": {},
   "source": [
    "Q6. Write a python program to print the first 10 Fibonacci numbers using a while loop.  "
   ]
  },
  {
   "cell_type": "code",
   "execution_count": 41,
   "id": "874cf196-1a2a-4414-8c3a-cd90b4be8acd",
   "metadata": {},
   "outputs": [
    {
     "name": "stdout",
     "output_type": "stream",
     "text": [
      "1,3,5,7,9,11,13,15,17,19,"
     ]
    }
   ],
   "source": [
    "a=0\n",
    "b=1\n",
    "n=0\n",
    "while n!=10:\n",
    "    print(a+b, end=',')\n",
    "    a=b\n",
    "    b=a+1\n",
    "    n+=1"
   ]
  },
  {
   "cell_type": "raw",
   "id": "30e392e4-c778-4aba-b969-33c98815debd",
   "metadata": {},
   "source": [
    "Q7. Write a List Comprehension to iterate through the given string: ‘pwskills’.\n",
    "Expected output: ['p', 'w', 's', 'k', 'i', 'l', 'l', 's']"
   ]
  },
  {
   "cell_type": "code",
   "execution_count": 68,
   "id": "77032712-457b-49dc-a91c-fc53e8449527",
   "metadata": {},
   "outputs": [
    {
     "name": "stdout",
     "output_type": "stream",
     "text": [
      "['p', 'w', 's', 'k', 'i', 'l', 'l', 's']\n"
     ]
    }
   ],
   "source": [
    "string='pwskills'\n",
    "l=[i for i in string]\n",
    "print(l)"
   ]
  },
  {
   "cell_type": "raw",
   "id": "d1106c08-bcd6-46f0-80cc-cdacabe3c44d",
   "metadata": {},
   "source": [
    "Q8. Write a python program to check whether a given number is Palindrome or not using a while loop."
   ]
  },
  {
   "cell_type": "code",
   "execution_count": 63,
   "id": "99761b9b-4ac1-460c-9223-79aa362e9127",
   "metadata": {},
   "outputs": [
    {
     "name": "stdout",
     "output_type": "stream",
     "text": [
      "No, Given number is not Palidrome\n"
     ]
    }
   ],
   "source": [
    "num=16461\n",
    "a=str(num)\n",
    "b=a[::-1]\n",
    "if(int(b)==num):\n",
    "    print('Yes, Given number is Palidrome')\n",
    "else:\n",
    "    print('No, Given number is not Palidrome')\n",
    "    "
   ]
  },
  {
   "cell_type": "raw",
   "id": "cf10da98-b4e3-47b0-81db-fd9f82903d76",
   "metadata": {},
   "source": [
    "Write a code to print odd numbers from 1 to 100 using list comprehension."
   ]
  },
  {
   "cell_type": "code",
   "execution_count": null,
   "id": "5a0432bb-4c23-41c1-b9d2-17cc652d75cc",
   "metadata": {},
   "outputs": [],
   "source": [
    "l=[i for i in range("
   ]
  }
 ],
 "metadata": {
  "kernelspec": {
   "display_name": "Python 3 (ipykernel)",
   "language": "python",
   "name": "python3"
  },
  "language_info": {
   "codemirror_mode": {
    "name": "ipython",
    "version": 3
   },
   "file_extension": ".py",
   "mimetype": "text/x-python",
   "name": "python",
   "nbconvert_exporter": "python",
   "pygments_lexer": "ipython3",
   "version": "3.10.8"
  }
 },
 "nbformat": 4,
 "nbformat_minor": 5
}
